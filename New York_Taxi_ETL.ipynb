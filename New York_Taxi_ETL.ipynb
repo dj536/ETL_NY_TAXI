{
 "cells": [
  {
   "cell_type": "markdown",
   "metadata": {
    "application/vnd.databricks.v1+cell": {
     "cellMetadata": {
      "byteLimit": 2048000,
      "rowLimit": 10000
     },
     "inputWidgets": {},
     "nuid": "96816ed7-b08a-4ca3-abb9-f99880c3535d",
     "showTitle": false,
     "tableResultSettingsMap": {},
     "title": ""
    }
   },
   "source": [
    "\n",
    "## Overview\n",
    "\n",
    "This notebook will show you how to create and query a table or DataFrame that you uploaded to DBFS. [DBFS](https://docs.databricks.com/user-guide/dbfs-databricks-file-system.html) is a Databricks File System that allows you to store data for querying inside of Databricks. This notebook assumes that you have a file already inside of DBFS that you would like to read from.\n",
    "\n",
    "This notebook is written in **Python** so the default cell type is Python. However, you can use different languages by using the `%LANGUAGE` syntax. Python, Scala, SQL, and R are all supported."
   ]
  },
  {
   "cell_type": "code",
   "execution_count": 0,
   "metadata": {
    "application/vnd.databricks.v1+cell": {
     "cellMetadata": {
      "byteLimit": 2048000,
      "rowLimit": 10000
     },
     "inputWidgets": {},
     "nuid": "bd82bb99-1479-4d5c-be10-8c36df0f1d44",
     "showTitle": false,
     "tableResultSettingsMap": {},
     "title": ""
    }
   },
   "outputs": [],
   "source": [
    "dbutils.fs.ls('/FileStore/tables/')"
   ]
  },
  {
   "cell_type": "code",
   "execution_count": 0,
   "metadata": {
    "application/vnd.databricks.v1+cell": {
     "cellMetadata": {
      "byteLimit": 2048000,
      "rowLimit": 10000
     },
     "inputWidgets": {},
     "nuid": "ae74aaeb-35ce-4922-ba1a-1de47fac7824",
     "showTitle": false,
     "tableResultSettingsMap": {},
     "title": ""
    }
   },
   "outputs": [],
   "source": [
    "df_parqueta = spark.read.format('parquet') \\\n",
    "    .option('inferSchema', True) \\\n",
    "    .load('/FileStore/tables/yellow_tripdata_2025_01.parquet/')\n",
    "\n",
    "df_parquete = spark.read.format('parquet') \\\n",
    "    .option('inferSchema', True) \\\n",
    "    .load('/FileStore/tables/yellow_tripdata_2025_02.parquet/')\n",
    "\n",
    "df_parqueti = spark.read.format('parquet') \\\n",
    "    .option('inferSchema', True) \\\n",
    "    .load('/FileStore/tables/yellow_tripdata_2025_03.parquet/')\n"
   ]
  },
  {
   "cell_type": "code",
   "execution_count": 0,
   "metadata": {
    "application/vnd.databricks.v1+cell": {
     "cellMetadata": {
      "byteLimit": 2048000,
      "rowLimit": 10000
     },
     "inputWidgets": {},
     "nuid": "fa4dfbd9-9c86-4ba0-8819-170ea3108e59",
     "showTitle": false,
     "tableResultSettingsMap": {},
     "title": ""
    }
   },
   "outputs": [],
   "source": [
    "df_parqueta.display()\n",
    "\n",
    "df_parquete.display()\n",
    "\n",
    "df_parqueti.display()\n",
    "\n"
   ]
  },
  {
   "cell_type": "code",
   "execution_count": 0,
   "metadata": {
    "application/vnd.databricks.v1+cell": {
     "cellMetadata": {
      "byteLimit": 2048000,
      "rowLimit": 10000
     },
     "inputWidgets": {},
     "nuid": "f55a033a-bbfe-4826-895e-5066e0d6c838",
     "showTitle": false,
     "tableResultSettingsMap": {},
     "title": ""
    }
   },
   "outputs": [],
   "source": [
    "from pyspark.sql.types import *\n",
    "\n",
    "df_parqueta = spark.read \\\n",
    "    .format(\"parquet\") \\\n",
    "    .schema(StructType([\n",
    "        StructField(\"VendorID\", IntegerType(), True),\n",
    "        StructField(\"tpep_pickup_datetime\", TimestampType(), True),\n",
    "        StructField(\"tpep_dropoff_datetime\", TimestampType(), True),\n",
    "        StructField(\"passenger_count\", LongType(), True),\n",
    "        StructField(\"trip_distance\", DoubleType(), True),\n",
    "        StructField(\"RatecodeID\", LongType(), True),\n",
    "        StructField(\"store_and_fwd_flag\", StringType(), True),\n",
    "        StructField(\"PULocationID\", IntegerType(), True),\n",
    "        StructField(\"DOLocationID\", IntegerType(), True),\n",
    "        StructField(\"payment_type\", LongType(), True),\n",
    "        StructField(\"fare_amount\", DoubleType(), True),\n",
    "        StructField(\"extra\", DoubleType(), True),\n",
    "        StructField(\"mta_tax\", DoubleType(), True),\n",
    "        StructField(\"tip_amount\", DoubleType(), True),\n",
    "        StructField(\"tolls_amount\", DoubleType(), True),\n",
    "        StructField(\"improvement_surcharge\", DoubleType(), True),\n",
    "        StructField(\"total_amount\", DoubleType(), True),\n",
    "        StructField(\"congestion_surcharge\", DoubleType(), True),\n",
    "        StructField(\"airport_fee\", DoubleType(), True),\n",
    "        StructField(\"cbd_congestion_fee\", DoubleType(), True)\n",
    "    ])) \\\n",
    "    .load(\"/FileStore/tables/yellow_tripdata_2025_01.parquet/\")\n"
   ]
  },
  {
   "cell_type": "code",
   "execution_count": 0,
   "metadata": {
    "application/vnd.databricks.v1+cell": {
     "cellMetadata": {
      "byteLimit": 2048000,
      "rowLimit": 10000
     },
     "inputWidgets": {},
     "nuid": "328d9d03-5cef-4074-91d4-a60191ed3fab",
     "showTitle": false,
     "tableResultSettingsMap": {},
     "title": ""
    }
   },
   "outputs": [],
   "source": [
    "from pyspark.sql.types import *\n",
    "\n",
    "df_parquete = spark.read \\\n",
    "    .format(\"parquet\") \\\n",
    "    .schema(StructType([\n",
    "        StructField(\"VendorID\", IntegerType(), True),\n",
    "        StructField(\"tpep_pickup_datetime\", TimestampType(), True),\n",
    "        StructField(\"tpep_dropoff_datetime\", TimestampType(), True),\n",
    "        StructField(\"passenger_count\", LongType(), True),\n",
    "        StructField(\"trip_distance\", DoubleType(), True),\n",
    "        StructField(\"RatecodeID\", LongType(), True),\n",
    "        StructField(\"store_and_fwd_flag\", StringType(), True),\n",
    "        StructField(\"PULocationID\", IntegerType(), True),\n",
    "        StructField(\"DOLocationID\", IntegerType(), True),\n",
    "        StructField(\"payment_type\", LongType(), True),\n",
    "        StructField(\"fare_amount\", DoubleType(), True),\n",
    "        StructField(\"extra\", DoubleType(), True),\n",
    "        StructField(\"mta_tax\", DoubleType(), True),\n",
    "        StructField(\"tip_amount\", DoubleType(), True),\n",
    "        StructField(\"tolls_amount\", DoubleType(), True),\n",
    "        StructField(\"improvement_surcharge\", DoubleType(), True),\n",
    "        StructField(\"total_amount\", DoubleType(), True),\n",
    "        StructField(\"congestion_surcharge\", DoubleType(), True),\n",
    "        StructField(\"airport_fee\", DoubleType(), True),\n",
    "        StructField(\"cbd_congestion_fee\", DoubleType(), True)\n",
    "    ])) \\\n",
    "    .load(\"/FileStore/tables/yellow_tripdata_2025_02.parquet/\")\n"
   ]
  },
  {
   "cell_type": "code",
   "execution_count": 0,
   "metadata": {
    "application/vnd.databricks.v1+cell": {
     "cellMetadata": {
      "byteLimit": 2048000,
      "rowLimit": 10000
     },
     "inputWidgets": {},
     "nuid": "06fc1aa4-b2a1-4ef4-97bf-cbbe55322717",
     "showTitle": false,
     "tableResultSettingsMap": {},
     "title": ""
    }
   },
   "outputs": [],
   "source": [
    "from pyspark.sql.types import *\n",
    "\n",
    "df_parqueti = spark.read \\\n",
    "    .format(\"parquet\") \\\n",
    "    .schema(StructType([\n",
    "        StructField(\"VendorID\", IntegerType(), True),\n",
    "        StructField(\"tpep_pickup_datetime\", TimestampType(), True),\n",
    "        StructField(\"tpep_dropoff_datetime\", TimestampType(), True),\n",
    "        StructField(\"passenger_count\", LongType(), True),\n",
    "        StructField(\"trip_distance\", DoubleType(), True),\n",
    "        StructField(\"RatecodeID\", LongType(), True),\n",
    "        StructField(\"store_and_fwd_flag\", StringType(), True),\n",
    "        StructField(\"PULocationID\", IntegerType(), True),\n",
    "        StructField(\"DOLocationID\", IntegerType(), True),\n",
    "        StructField(\"payment_type\", LongType(), True),\n",
    "        StructField(\"fare_amount\", DoubleType(), True),\n",
    "        StructField(\"extra\", DoubleType(), True),\n",
    "        StructField(\"mta_tax\", DoubleType(), True),\n",
    "        StructField(\"tip_amount\", DoubleType(), True),\n",
    "        StructField(\"tolls_amount\", DoubleType(), True),\n",
    "        StructField(\"improvement_surcharge\", DoubleType(), True),\n",
    "        StructField(\"total_amount\", DoubleType(), True),\n",
    "        StructField(\"congestion_surcharge\", DoubleType(), True),\n",
    "        StructField(\"airport_fee\", DoubleType(), True),\n",
    "        StructField(\"cbd_congestion_fee\", DoubleType(), True)\n",
    "    ])) \\\n",
    "    .load(\"/FileStore/tables/yellow_tripdata_2025_03.parquet/\")\n"
   ]
  },
  {
   "cell_type": "code",
   "execution_count": 0,
   "metadata": {
    "application/vnd.databricks.v1+cell": {
     "cellMetadata": {
      "byteLimit": 2048000,
      "implicitDf": true,
      "rowLimit": 10000
     },
     "inputWidgets": {},
     "nuid": "cf0a57b7-ce72-44c1-8a5e-512bc23184c4",
     "showTitle": false,
     "tableResultSettingsMap": {},
     "title": ""
    }
   },
   "outputs": [],
   "source": [
    "%sql\n",
    "CREATE DATABASE IF NOT EXISTS my_nyctaxi;\n",
    "USE my_nyctaxi;\n",
    "\n"
   ]
  },
  {
   "cell_type": "code",
   "execution_count": 0,
   "metadata": {
    "application/vnd.databricks.v1+cell": {
     "cellMetadata": {
      "byteLimit": 2048000,
      "implicitDf": true,
      "rowLimit": 10000
     },
     "inputWidgets": {},
     "nuid": "9adfd88b-2544-4544-813c-e095bfffc98d",
     "showTitle": false,
     "tableResultSettingsMap": {},
     "title": ""
    }
   },
   "outputs": [],
   "source": [
    "%sql\n",
    "\n",
    "CREATE OR REPLACE TABLE my_nyctaxi.yellow_tripdata1 (\n",
    "  VendorID INT,\n",
    "  tpep_pickup_datetime TIMESTAMP,\n",
    "  tpep_dropoff_datetime TIMESTAMP,\n",
    "  passenger_count BIGINT,\n",
    "  trip_distance DOUBLE,\n",
    "  RatecodeID BIGINT,\n",
    "  store_and_fwd_flag STRING,\n",
    "  PULocationID INT,\n",
    "  DOLocationID INT,\n",
    "  payment_type BIGINT,\n",
    "  fare_amount DOUBLE,\n",
    "  extra DOUBLE,\n",
    "  mta_tax DOUBLE,\n",
    "  tip_amount DOUBLE,\n",
    "  tolls_amount DOUBLE,\n",
    "  improvement_surcharge DOUBLE,\n",
    "  total_amount DOUBLE,\n",
    "  congestion_surcharge DOUBLE,\n",
    "  airport_fee DOUBLE,\n",
    "  cbd_congestion_fee DOUBLE\n",
    ")USING DELTA\n",
    "LOCATION 'dbfs:/user/hive/warehouse/my_nyctaxi.db/yellow_tripdata1';\n"
   ]
  },
  {
   "cell_type": "code",
   "execution_count": 0,
   "metadata": {
    "application/vnd.databricks.v1+cell": {
     "cellMetadata": {
      "byteLimit": 2048000,
      "implicitDf": true,
      "rowLimit": 10000
     },
     "inputWidgets": {},
     "nuid": "82795964-32b8-4c45-b5f2-2a568d1be68d",
     "showTitle": false,
     "tableResultSettingsMap": {},
     "title": ""
    }
   },
   "outputs": [],
   "source": [
    "%sql\n",
    "\n",
    "CREATE OR REPLACE TABLE my_nyctaxi.yellow_tripdata2 (\n",
    "  VendorID INT,\n",
    "  tpep_pickup_datetime TIMESTAMP,\n",
    "  tpep_dropoff_datetime TIMESTAMP,\n",
    "  passenger_count BIGINT,\n",
    "  trip_distance DOUBLE,\n",
    "  RatecodeID BIGINT,\n",
    "  store_and_fwd_flag STRING,\n",
    "  PULocationID INT,\n",
    "  DOLocationID INT,\n",
    "  payment_type BIGINT,\n",
    "  fare_amount DOUBLE,\n",
    "  extra DOUBLE,\n",
    "  mta_tax DOUBLE,\n",
    "  tip_amount DOUBLE,\n",
    "  tolls_amount DOUBLE,\n",
    "  improvement_surcharge DOUBLE,\n",
    "  total_amount DOUBLE,\n",
    "  congestion_surcharge DOUBLE,\n",
    "  airport_fee DOUBLE,\n",
    "  cbd_congestion_fee DOUBLE\n",
    ")USING DELTA\n",
    "LOCATION 'dbfs:/user/hive/warehouse/my_nyctaxi.db/yellow_tripdata2';\n",
    "\n"
   ]
  },
  {
   "cell_type": "code",
   "execution_count": 0,
   "metadata": {
    "application/vnd.databricks.v1+cell": {
     "cellMetadata": {
      "byteLimit": 2048000,
      "implicitDf": true,
      "rowLimit": 10000
     },
     "inputWidgets": {},
     "nuid": "1823d2b8-0c99-4b9d-9d5d-6420c43a7c8d",
     "showTitle": false,
     "tableResultSettingsMap": {},
     "title": ""
    }
   },
   "outputs": [],
   "source": [
    "%sql\n",
    "\n",
    "CREATE OR REPLACE TABLE my_nyctaxi.yellow_tripdata3 (\n",
    "  VendorID INT,\n",
    "  tpep_pickup_datetime TIMESTAMP,\n",
    "  tpep_dropoff_datetime TIMESTAMP,\n",
    "  passenger_count BIGINT,\n",
    "  trip_distance DOUBLE,\n",
    "  RatecodeID BIGINT,\n",
    "  store_and_fwd_flag STRING,\n",
    "  PULocationID INT,\n",
    "  DOLocationID INT,\n",
    "  payment_type BIGINT,\n",
    "  fare_amount DOUBLE,\n",
    "  extra DOUBLE,\n",
    "  mta_tax DOUBLE,\n",
    "  tip_amount DOUBLE,\n",
    "  tolls_amount DOUBLE,\n",
    "  improvement_surcharge DOUBLE,\n",
    "  total_amount DOUBLE,\n",
    "  congestion_surcharge DOUBLE,\n",
    "  airport_fee DOUBLE,\n",
    "  cbd_congestion_fee DOUBLE\n",
    ")USING DELTA\n",
    "LOCATION 'dbfs:/user/hive/warehouse/my_nyctaxi.db/yellow_tripdata3';\n",
    "\n"
   ]
  },
  {
   "cell_type": "code",
   "execution_count": 0,
   "metadata": {
    "application/vnd.databricks.v1+cell": {
     "cellMetadata": {
      "byteLimit": 2048000,
      "implicitDf": true,
      "rowLimit": 10000
     },
     "inputWidgets": {},
     "nuid": "716e284d-c26c-4941-b21e-14aa4241cdc1",
     "showTitle": false,
     "tableResultSettingsMap": {},
     "title": ""
    }
   },
   "outputs": [],
   "source": [
    "%sql\n",
    "\n",
    "CREATE OR REPLACE TABLE my_nyctaxi.yellow_tripdata4 (\n",
    "  VendorID INT,\n",
    "  tpep_pickup_datetime TIMESTAMP,\n",
    "  tpep_dropoff_datetime TIMESTAMP,\n",
    "  passenger_count BIGINT,\n",
    "  trip_distance DOUBLE,\n",
    "  RatecodeID BIGINT,\n",
    "  store_and_fwd_flag STRING,\n",
    "  PULocationID INT,\n",
    "  DOLocationID INT,\n",
    "  payment_type BIGINT,\n",
    "  fare_amount DOUBLE,\n",
    "  extra DOUBLE,\n",
    "  mta_tax DOUBLE,\n",
    "  tip_amount DOUBLE,\n",
    "  tolls_amount DOUBLE,\n",
    "  improvement_surcharge DOUBLE,\n",
    "  total_amount DOUBLE,\n",
    "  congestion_surcharge DOUBLE,\n",
    "  airport_fee DOUBLE,\n",
    "  cbd_congestion_fee DOUBLE\n",
    ")USING DELTA\n",
    "LOCATION 'dbfs:/user/hive/warehouse/my_nyctaxi.db/yellow_tripdata4';\n",
    "\n"
   ]
  },
  {
   "cell_type": "code",
   "execution_count": 0,
   "metadata": {
    "application/vnd.databricks.v1+cell": {
     "cellMetadata": {
      "byteLimit": 2048000,
      "rowLimit": 10000
     },
     "inputWidgets": {},
     "nuid": "34e21a9b-ccd1-4086-9ef9-a03f00130fda",
     "showTitle": false,
     "tableResultSettingsMap": {},
     "title": ""
    }
   },
   "outputs": [],
   "source": [
    "print(type(df_parqueta))"
   ]
  },
  {
   "cell_type": "code",
   "execution_count": 0,
   "metadata": {
    "application/vnd.databricks.v1+cell": {
     "cellMetadata": {
      "byteLimit": 2048000,
      "rowLimit": 10000
     },
     "inputWidgets": {},
     "nuid": "327b5181-8932-4c1f-8e87-ca23103e6d5a",
     "showTitle": false,
     "tableResultSettingsMap": {},
     "title": ""
    }
   },
   "outputs": [],
   "source": [
    "df_parqueta.write.mode(\"overwrite\").saveAsTable(\"my_nyctaxi.yellow_tripdata1\")\n",
    "\n"
   ]
  },
  {
   "cell_type": "code",
   "execution_count": 0,
   "metadata": {
    "application/vnd.databricks.v1+cell": {
     "cellMetadata": {
      "byteLimit": 2048000,
      "rowLimit": 10000
     },
     "inputWidgets": {},
     "nuid": "ae2e5b00-37d2-456d-99ec-0f31e19d2ee2",
     "showTitle": false,
     "tableResultSettingsMap": {},
     "title": ""
    }
   },
   "outputs": [],
   "source": [
    "df_parquete.write.mode(\"overwrite\").saveAsTable(\"my_nyctaxi.yellow_tripdata2\")\n"
   ]
  },
  {
   "cell_type": "code",
   "execution_count": 0,
   "metadata": {
    "application/vnd.databricks.v1+cell": {
     "cellMetadata": {
      "byteLimit": 2048000,
      "rowLimit": 10000
     },
     "inputWidgets": {},
     "nuid": "f2d0e320-71e3-4ee5-86de-747d3ff18bee",
     "showTitle": false,
     "tableResultSettingsMap": {},
     "title": ""
    }
   },
   "outputs": [],
   "source": [
    "df_parqueti.write.mode(\"overwrite\").saveAsTable(\"my_nyctaxi.yellow_tripdata3\")\n"
   ]
  },
  {
   "cell_type": "code",
   "execution_count": 0,
   "metadata": {
    "application/vnd.databricks.v1+cell": {
     "cellMetadata": {
      "byteLimit": 2048000,
      "implicitDf": true,
      "rowLimit": 10000
     },
     "inputWidgets": {},
     "nuid": "7221de58-e71d-4076-a3d7-c9e6ae1af536",
     "showTitle": false,
     "tableResultSettingsMap": {},
     "title": ""
    }
   },
   "outputs": [],
   "source": [
    "%sql\n",
    "select * from  my_nyctaxi.yellow_tripdata1"
   ]
  },
  {
   "cell_type": "code",
   "execution_count": 0,
   "metadata": {
    "application/vnd.databricks.v1+cell": {
     "cellMetadata": {
      "byteLimit": 2048000,
      "rowLimit": 10000
     },
     "inputWidgets": {},
     "nuid": "f9397c5e-8a85-4d0e-bd43-564e593b44bb",
     "showTitle": false,
     "tableResultSettingsMap": {},
     "title": ""
    }
   },
   "outputs": [],
   "source": [
    "from pyspark.sql.types import *\n",
    "from pyspark.sql.functions import *\n",
    "new_yellow_df = df_parqueta.unionByName(df_parquete).unionByName(df_parqueti)\n",
    "display(new_yellow_df)"
   ]
  },
  {
   "cell_type": "code",
   "execution_count": 0,
   "metadata": {
    "application/vnd.databricks.v1+cell": {
     "cellMetadata": {
      "byteLimit": 2048000,
      "rowLimit": 10000
     },
     "inputWidgets": {},
     "nuid": "d11498f0-e7fe-4447-bc51-781ef087692e",
     "showTitle": false,
     "tableResultSettingsMap": {},
     "title": ""
    }
   },
   "outputs": [],
   "source": [
    "new_yellow_df.write.mode(\"overwrite\").saveAsTable(\"my_nyctaxi.yellow_tripdata4\")\n"
   ]
  },
  {
   "cell_type": "code",
   "execution_count": 0,
   "metadata": {
    "application/vnd.databricks.v1+cell": {
     "cellMetadata": {
      "byteLimit": 2048000,
      "implicitDf": true,
      "rowLimit": 10000
     },
     "inputWidgets": {},
     "nuid": "51f469c3-b984-42e0-9fb6-601342929886",
     "showTitle": false,
     "tableResultSettingsMap": {},
     "title": ""
    }
   },
   "outputs": [],
   "source": [
    "%sql\n",
    "select * from my_nyctaxi.yellow_tripdata4"
   ]
  },
  {
   "cell_type": "code",
   "execution_count": 0,
   "metadata": {
    "application/vnd.databricks.v1+cell": {
     "cellMetadata": {
      "byteLimit": 2048000,
      "rowLimit": 10000
     },
     "inputWidgets": {},
     "nuid": "748c7d90-38f9-49b8-8073-2bbf159c3951",
     "showTitle": false,
     "tableResultSettingsMap": {},
     "title": ""
    }
   },
   "outputs": [],
   "source": [
    "new_yellow_df = new_yellow_df.fillna('No vendor_ID', subset=['VendorID'])#.display()"
   ]
  },
  {
   "cell_type": "code",
   "execution_count": 0,
   "metadata": {
    "application/vnd.databricks.v1+cell": {
     "cellMetadata": {
      "byteLimit": 2048000,
      "rowLimit": 10000
     },
     "inputWidgets": {},
     "nuid": "83234bd9-f3f4-47ad-a45f-2335df9db68f",
     "showTitle": false,
     "tableResultSettingsMap": {},
     "title": ""
    }
   },
   "outputs": [],
   "source": [
    "new_yellow_df = new_yellow_df.fillna(0, subset=['passenger_count'])#.display()"
   ]
  },
  {
   "cell_type": "code",
   "execution_count": 0,
   "metadata": {
    "application/vnd.databricks.v1+cell": {
     "cellMetadata": {
      "byteLimit": 2048000,
      "rowLimit": 10000
     },
     "inputWidgets": {},
     "nuid": "f8c1ea32-cc5c-4e6b-a7ca-3ccc3203b7c0",
     "showTitle": false,
     "tableResultSettingsMap": {},
     "title": ""
    }
   },
   "outputs": [],
   "source": [
    "new_yellow_df = new_yellow_df.withColumn('RatecodeID', when(col('RatecodeID').between(1,6), col('RatecodeID')).otherwise(0))"
   ]
  },
  {
   "cell_type": "code",
   "execution_count": 0,
   "metadata": {
    "application/vnd.databricks.v1+cell": {
     "cellMetadata": {
      "byteLimit": 2048000,
      "rowLimit": 10000
     },
     "inputWidgets": {},
     "nuid": "e91d7ecb-d362-47ab-84fa-71be8fb89045",
     "showTitle": false,
     "tableResultSettingsMap": {},
     "title": ""
    }
   },
   "outputs": [],
   "source": [
    "new_yellow_df = new_yellow_df.fillna('Unknown', subset=['store_and_fwd_flag'])#.display()"
   ]
  },
  {
   "cell_type": "code",
   "execution_count": 0,
   "metadata": {
    "application/vnd.databricks.v1+cell": {
     "cellMetadata": {
      "byteLimit": 2048000,
      "rowLimit": 10000
     },
     "inputWidgets": {},
     "nuid": "70d2b3e6-4414-4cb4-8dbb-066a9a4cb17d",
     "showTitle": false,
     "tableResultSettingsMap": {},
     "title": ""
    }
   },
   "outputs": [],
   "source": [
    "new_yellow_df = new_yellow_df.withColumn('fare_amount', when(col('fare_amount') < 0, lit(0)).otherwise(col('fare_amount')))"
   ]
  },
  {
   "cell_type": "code",
   "execution_count": 0,
   "metadata": {
    "application/vnd.databricks.v1+cell": {
     "cellMetadata": {
      "byteLimit": 2048000,
      "rowLimit": 10000
     },
     "inputWidgets": {},
     "nuid": "bcb4542d-3ac2-4496-8d65-c5a3ee0e2364",
     "showTitle": false,
     "tableResultSettingsMap": {},
     "title": ""
    }
   },
   "outputs": [],
   "source": [
    "new_yellow_df = new_yellow_df.withColumn('extra', when(col('extra') < 0, lit(0)).otherwise(col('extra')))"
   ]
  },
  {
   "cell_type": "code",
   "execution_count": 0,
   "metadata": {
    "application/vnd.databricks.v1+cell": {
     "cellMetadata": {
      "byteLimit": 2048000,
      "rowLimit": 10000
     },
     "inputWidgets": {},
     "nuid": "9b777e4d-f523-4a1b-95ea-9169dce72eaf",
     "showTitle": false,
     "tableResultSettingsMap": {},
     "title": ""
    }
   },
   "outputs": [],
   "source": [
    "new_yellow_df = new_yellow_df.withColumn('tolls_amount', when(col('tolls_amount') < 0, lit(0)).otherwise(col('mta_tax')))"
   ]
  },
  {
   "cell_type": "code",
   "execution_count": 0,
   "metadata": {
    "application/vnd.databricks.v1+cell": {
     "cellMetadata": {
      "byteLimit": 2048000,
      "rowLimit": 10000
     },
     "inputWidgets": {},
     "nuid": "f9d70713-e038-46c5-ae70-bbaab4b46405",
     "showTitle": false,
     "tableResultSettingsMap": {},
     "title": ""
    }
   },
   "outputs": [],
   "source": [
    "new_yellow_df = new_yellow_df.withColumn('mta_tax', when(col('mta_tax') < 0, lit(0)).otherwise(col('mta_tax')))"
   ]
  },
  {
   "cell_type": "code",
   "execution_count": 0,
   "metadata": {
    "application/vnd.databricks.v1+cell": {
     "cellMetadata": {
      "byteLimit": 2048000,
      "rowLimit": 10000
     },
     "inputWidgets": {},
     "nuid": "7e17b7fe-a21e-441b-b4aa-9bee39a84f92",
     "showTitle": false,
     "tableResultSettingsMap": {},
     "title": ""
    }
   },
   "outputs": [],
   "source": [
    "new_yellow_df = new_yellow_df.withColumn('tolls_amount', when(col('tolls_amount') < 0, lit(0)).otherwise(col('tolls_amount')))"
   ]
  },
  {
   "cell_type": "code",
   "execution_count": 0,
   "metadata": {
    "application/vnd.databricks.v1+cell": {
     "cellMetadata": {
      "byteLimit": 2048000,
      "rowLimit": 10000
     },
     "inputWidgets": {},
     "nuid": "c30adcf4-8a24-4333-ae9b-37c6ccbb78bf",
     "showTitle": false,
     "tableResultSettingsMap": {},
     "title": ""
    }
   },
   "outputs": [],
   "source": [
    "new_yellow_df = new_yellow_df.withColumn('tip_amount', when((col('tip_amount') < 0) & (col('payment_type') == 2), lit(0)).otherwise(col('tip_amount')))"
   ]
  },
  {
   "cell_type": "code",
   "execution_count": 0,
   "metadata": {
    "application/vnd.databricks.v1+cell": {
     "cellMetadata": {
      "byteLimit": 2048000,
      "rowLimit": 10000
     },
     "inputWidgets": {},
     "nuid": "82cfa969-ef17-4a2c-b8ff-7c1d54d3ccfa",
     "showTitle": false,
     "tableResultSettingsMap": {},
     "title": ""
    }
   },
   "outputs": [],
   "source": [
    "new_yellow_df = new_yellow_df.withColumn('improvement_surcharge', when(col('improvement_surcharge') < 0, lit(0)).otherwise(col('improvement_surcharge')))"
   ]
  },
  {
   "cell_type": "code",
   "execution_count": 0,
   "metadata": {
    "application/vnd.databricks.v1+cell": {
     "cellMetadata": {
      "byteLimit": 2048000,
      "rowLimit": 10000
     },
     "inputWidgets": {},
     "nuid": "fe0a4f57-da10-45df-a2a6-b5a35f672130",
     "showTitle": false,
     "tableResultSettingsMap": {},
     "title": ""
    }
   },
   "outputs": [],
   "source": [
    "new_yellow_df = new_yellow_df.withColumn('total_amount', when(col('total_amount') <= 0, lit(0)).otherwise(col('total_amount')))"
   ]
  },
  {
   "cell_type": "code",
   "execution_count": 0,
   "metadata": {
    "application/vnd.databricks.v1+cell": {
     "cellMetadata": {
      "byteLimit": 2048000,
      "rowLimit": 10000
     },
     "inputWidgets": {},
     "nuid": "9e27b3db-c456-4f7e-a4af-22dc4e6afa15",
     "showTitle": false,
     "tableResultSettingsMap": {},
     "title": ""
    }
   },
   "outputs": [],
   "source": [
    "new_yellow_df = new_yellow_df.fillna(0, subset=['congestion_surcharge'])#.display()"
   ]
  },
  {
   "cell_type": "code",
   "execution_count": 0,
   "metadata": {
    "application/vnd.databricks.v1+cell": {
     "cellMetadata": {
      "byteLimit": 2048000,
      "rowLimit": 10000
     },
     "inputWidgets": {},
     "nuid": "09201a76-b14b-4b46-a1c6-09222b3a8e77",
     "showTitle": false,
     "tableResultSettingsMap": {},
     "title": ""
    }
   },
   "outputs": [],
   "source": [
    "new_yellow_df = new_yellow_df.withColumn('congestion_surcharge', when(col('congestion_surcharge') < 0, lit(0)).otherwise(col('congestion_surcharge')))"
   ]
  },
  {
   "cell_type": "code",
   "execution_count": 0,
   "metadata": {
    "application/vnd.databricks.v1+cell": {
     "cellMetadata": {
      "byteLimit": 2048000,
      "rowLimit": 10000
     },
     "inputWidgets": {},
     "nuid": "c68ff699-07e6-46a2-97e7-3726262a0622",
     "showTitle": false,
     "tableResultSettingsMap": {},
     "title": ""
    }
   },
   "outputs": [],
   "source": [
    "new_yellow_df = new_yellow_df.fillna(0, subset=['Airport_fee'])#.display()"
   ]
  },
  {
   "cell_type": "code",
   "execution_count": 0,
   "metadata": {
    "application/vnd.databricks.v1+cell": {
     "cellMetadata": {
      "byteLimit": 2048000,
      "rowLimit": 10000
     },
     "inputWidgets": {},
     "nuid": "48ddb714-1375-4bf1-bc3c-ff52ce842972",
     "showTitle": false,
     "tableResultSettingsMap": {},
     "title": ""
    }
   },
   "outputs": [],
   "source": [
    "new_yellow_df = new_yellow_df.withColumn('Airport_fee', when(col('Airport_fee') < 0, lit(0)).otherwise(col('Airport_fee')))"
   ]
  },
  {
   "cell_type": "code",
   "execution_count": 0,
   "metadata": {
    "application/vnd.databricks.v1+cell": {
     "cellMetadata": {
      "byteLimit": 2048000,
      "rowLimit": 10000
     },
     "inputWidgets": {},
     "nuid": "61bc25ab-cbbc-453a-a667-c1c349a3d773",
     "showTitle": false,
     "tableResultSettingsMap": {},
     "title": ""
    }
   },
   "outputs": [],
   "source": [
    "new_yellow_df = new_yellow_df.withColumn('cbd_congestion_fee', when(col('cbd_congestion_fee') < 0, lit(0)).otherwise(col('cbd_congestion_fee')))\n"
   ]
  },
  {
   "cell_type": "code",
   "execution_count": 0,
   "metadata": {
    "application/vnd.databricks.v1+cell": {
     "cellMetadata": {
      "byteLimit": 2048000,
      "rowLimit": 10000
     },
     "inputWidgets": {},
     "nuid": "8ccc578b-ef78-42c2-bb55-12b0e949dfd7",
     "showTitle": false,
     "tableResultSettingsMap": {},
     "title": ""
    }
   },
   "outputs": [],
   "source": [
    "new_yellow_df = new_yellow_df.withColumn('pickup_hour', hour(col('tpep_pickup_datetime')))\n",
    "new_yellow_df.display()"
   ]
  },
  {
   "cell_type": "code",
   "execution_count": 0,
   "metadata": {
    "application/vnd.databricks.v1+cell": {
     "cellMetadata": {
      "byteLimit": 2048000,
      "rowLimit": 10000
     },
     "inputWidgets": {},
     "nuid": "a0a694d9-b954-4bb5-b608-efb09f635a8e",
     "showTitle": false,
     "tableResultSettingsMap": {},
     "title": ""
    }
   },
   "outputs": [],
   "source": [
    "new_yellow_df = new_yellow_df.fillna({'RatecodeID': 0})\n"
   ]
  },
  {
   "cell_type": "code",
   "execution_count": 0,
   "metadata": {
    "application/vnd.databricks.v1+cell": {
     "cellMetadata": {
      "byteLimit": 2048000,
      "rowLimit": 10000
     },
     "inputWidgets": {},
     "nuid": "e95e5050-5c78-4c46-8b6f-9b72758fd9b2",
     "showTitle": false,
     "tableResultSettingsMap": {},
     "title": ""
    }
   },
   "outputs": [],
   "source": [
    "df_int_transf = new_yellow_df.groupBy('PULocationID', 'pickup_hour').agg(count('*').alias('travel_volume'))\n",
    "df_int_transf.display()"
   ]
  },
  {
   "cell_type": "code",
   "execution_count": 0,
   "metadata": {
    "application/vnd.databricks.v1+cell": {
     "cellMetadata": {
      "byteLimit": 2048000,
      "rowLimit": 10000
     },
     "inputWidgets": {},
     "nuid": "7a78663c-4ccc-41c1-8856-cc7de93243bd",
     "showTitle": false,
     "tableResultSettingsMap": {},
     "title": ""
    }
   },
   "outputs": [],
   "source": [
    "df_int_transf.createOrReplaceTempView('TA')\n"
   ]
  },
  {
   "cell_type": "code",
   "execution_count": 0,
   "metadata": {
    "application/vnd.databricks.v1+cell": {
     "cellMetadata": {
      "byteLimit": 2048000,
      "rowLimit": 10000
     },
     "inputWidgets": {},
     "nuid": "e85d88e3-9f4e-49a0-a342-042470861437",
     "showTitle": false,
     "tableResultSettingsMap": {},
     "title": ""
    }
   },
   "outputs": [],
   "source": [
    "from pyspark.sql.functions import sum\n",
    "\n",
    "df_int_transf_b = df_int_transf.groupBy(\"pickup_hour\").agg(sum(\"travel_volume\").alias(\"most_taxi_rides\"))\n",
    "df_int_transf_b.display()\n"
   ]
  },
  {
   "cell_type": "code",
   "execution_count": 0,
   "metadata": {
    "application/vnd.databricks.v1+cell": {
     "cellMetadata": {
      "byteLimit": 2048000,
      "rowLimit": 10000
     },
     "inputWidgets": {},
     "nuid": "7ad10079-feaf-44d3-b0a3-3395db4e9ebf",
     "showTitle": false,
     "tableResultSettingsMap": {},
     "title": ""
    }
   },
   "outputs": [],
   "source": [
    "df_int_transf_b.createOrReplaceTempView('TB')"
   ]
  },
  {
   "cell_type": "code",
   "execution_count": 0,
   "metadata": {
    "application/vnd.databricks.v1+cell": {
     "cellMetadata": {
      "byteLimit": 2048000,
      "rowLimit": 10000
     },
     "inputWidgets": {},
     "nuid": "225a380b-5ef6-4174-97eb-d11d4a8e672b",
     "showTitle": false,
     "tableResultSettingsMap": {},
     "title": ""
    }
   },
   "outputs": [],
   "source": [
    "from pyspark.sql.functions import count\n",
    "\n",
    "zones_freq = new_yellow_df.groupBy('PULocationID') \\\n",
    "               .agg(count('*').alias('travel_nbr_per_zn')) \\\n",
    "\n",
    "zones_freq.display()\n"
   ]
  },
  {
   "cell_type": "code",
   "execution_count": 0,
   "metadata": {
    "application/vnd.databricks.v1+cell": {
     "cellMetadata": {
      "byteLimit": 2048000,
      "rowLimit": 10000
     },
     "inputWidgets": {},
     "nuid": "f4479bd4-8e5a-4f6e-b833-e66d526327a9",
     "showTitle": false,
     "tableResultSettingsMap": {},
     "title": ""
    }
   },
   "outputs": [],
   "source": [
    "zones_freq.createOrReplaceTempView('TC')"
   ]
  },
  {
   "cell_type": "code",
   "execution_count": 0,
   "metadata": {
    "application/vnd.databricks.v1+cell": {
     "cellMetadata": {
      "byteLimit": 2048000,
      "rowLimit": 10000
     },
     "inputWidgets": {},
     "nuid": "2961b170-79d5-42df-b0cb-5de558cf7013",
     "showTitle": false,
     "tableResultSettingsMap": {},
     "title": ""
    }
   },
   "outputs": [],
   "source": [
    "pt_df = new_yellow_df.groupBy('payment_type') \\\n",
    "               .agg(count('*').alias('most_payment_tp')) \\\n",
    "\n",
    "pt_df.display()"
   ]
  },
  {
   "cell_type": "code",
   "execution_count": 0,
   "metadata": {
    "application/vnd.databricks.v1+cell": {
     "cellMetadata": {
      "byteLimit": 2048000,
      "rowLimit": 10000
     },
     "inputWidgets": {},
     "nuid": "cd0b56ba-2e34-47b4-9e47-409f218c2e78",
     "showTitle": false,
     "tableResultSettingsMap": {},
     "title": ""
    }
   },
   "outputs": [],
   "source": [
    "pt_df.createOrReplaceTempView('TD')"
   ]
  },
  {
   "cell_type": "code",
   "execution_count": 0,
   "metadata": {
    "application/vnd.databricks.v1+cell": {
     "cellMetadata": {
      "byteLimit": 2048000,
      "rowLimit": 10000
     },
     "inputWidgets": {},
     "nuid": "7081c9b5-8859-423c-9410-7f3b1aa92e76",
     "showTitle": false,
     "tableResultSettingsMap": {},
     "title": ""
    }
   },
   "outputs": [],
   "source": [
    "new_yellow_df = new_yellow_df.withColumn( \"travel_duration\", (unix_timestamp(\"tpep_dropoff_datetime\") - unix_timestamp(\"tpep_pickup_datetime\")) / 60)\n",
    "new_yellow_df.display()"
   ]
  },
  {
   "cell_type": "code",
   "execution_count": 0,
   "metadata": {
    "application/vnd.databricks.v1+cell": {
     "cellMetadata": {
      "byteLimit": 2048000,
      "rowLimit": 10000
     },
     "inputWidgets": {},
     "nuid": "f343b295-5c9a-4d2b-b834-6cf566e674ac",
     "showTitle": false,
     "tableResultSettingsMap": {},
     "title": ""
    }
   },
   "outputs": [],
   "source": [
    "new_yellow_df = new_yellow_df.withColumn(\n",
    "    \"payment_type_desc\",\n",
    "    when(col(\"payment_type\") == 0, \"Flex Fare trip\")\n",
    "    .when(col(\"payment_type\") == 1, \"Credit card\")\n",
    "    .when(col(\"payment_type\") == 2, \"Cash\")\n",
    "    .when(col(\"payment_type\") == 3, \"No charge\")\n",
    "    .when(col(\"payment_type\") == 4, \"Dispute\")\n",
    "    .when(col(\"payment_type\") == 5, \"Unknown\")\n",
    "    .when(col(\"payment_type\") == 6, \"Voided trip\")\n",
    "    .otherwise(\"Other\")\n",
    ")\n",
    "new_yellow_df.display()"
   ]
  },
  {
   "cell_type": "code",
   "execution_count": 0,
   "metadata": {
    "application/vnd.databricks.v1+cell": {
     "cellMetadata": {
      "byteLimit": 2048000,
      "rowLimit": 10000
     },
     "inputWidgets": {},
     "nuid": "4efa1ab9-248b-4dd2-9d6c-b3ada9210e74",
     "showTitle": false,
     "tableResultSettingsMap": {},
     "title": ""
    }
   },
   "outputs": [],
   "source": [
    "new_yellow_df = new_yellow_df.withColumn(\n",
    "    \"rate_code_desc\",\n",
    "    when(col(\"RatecodeID\") == 1, \"Standard rate\")\n",
    "    .when(col(\"RatecodeID\") == 2, \"JFK\")\n",
    "    .when(col(\"RatecodeID\") == 3, \"Newark\")\n",
    "    .when(col(\"RatecodeID\") == 4, \"Nassau or Westchester\")\n",
    "    .when(col(\"RatecodeID\") == 5, \"Negotiated fare\")\n",
    "    .when(col(\"RatecodeID\") == 6, \"Group ride\")\n",
    "    .when(col(\"RatecodeID\") == 99, \"Null/unknown\")\n",
    "    .otherwise(\"Other\")\n",
    ")\n",
    "new_yellow_df.display()\n"
   ]
  },
  {
   "cell_type": "code",
   "execution_count": 0,
   "metadata": {
    "application/vnd.databricks.v1+cell": {
     "cellMetadata": {
      "byteLimit": 2048000,
      "rowLimit": 10000
     },
     "inputWidgets": {},
     "nuid": "c0df9438-dca5-4a03-9962-152629ca5506",
     "showTitle": false,
     "tableResultSettingsMap": {},
     "title": ""
    }
   },
   "outputs": [],
   "source": [
    "new_yellow_df.createOrReplaceTempView('new_yellow_view')\n"
   ]
  },
  {
   "cell_type": "code",
   "execution_count": 0,
   "metadata": {
    "application/vnd.databricks.v1+cell": {
     "cellMetadata": {
      "byteLimit": 2048000,
      "implicitDf": true,
      "rowLimit": 10000
     },
     "inputWidgets": {},
     "nuid": "4be2069a-a04d-494a-9a96-71f6fd8e3523",
     "showTitle": false,
     "tableResultSettingsMap": {},
     "title": ""
    }
   },
   "outputs": [],
   "source": [
    "%sql\n",
    "CREATE DATABASE IF NOT EXISTS my_nyctaxi_dwh;"
   ]
  },
  {
   "cell_type": "code",
   "execution_count": 0,
   "metadata": {
    "application/vnd.databricks.v1+cell": {
     "cellMetadata": {
      "byteLimit": 2048000,
      "implicitDf": true,
      "rowLimit": 10000
     },
     "inputWidgets": {},
     "nuid": "990ab37c-86da-457b-bbb3-71aa30753d8b",
     "showTitle": false,
     "tableResultSettingsMap": {},
     "title": ""
    }
   },
   "outputs": [],
   "source": [
    "%sql\n",
    "CREATE OR REPLACE TABLE my_nyctaxi_dwh.Dim_Location AS\n",
    "SELECT PULocationID, DOLocationID, \n",
    " row_number() OVER (ORDER BY PULocationID) AS surrogate_key\n",
    "FROM new_yellow_view;\n"
   ]
  },
  {
   "cell_type": "code",
   "execution_count": 0,
   "metadata": {
    "application/vnd.databricks.v1+cell": {
     "cellMetadata": {
      "byteLimit": 2048000,
      "implicitDf": true,
      "rowLimit": 10000
     },
     "inputWidgets": {},
     "nuid": "c3681db2-df7c-423d-8eb8-6e9febbe0139",
     "showTitle": false,
     "tableResultSettingsMap": {},
     "title": ""
    }
   },
   "outputs": [],
   "source": [
    "%sql\n",
    "select * from my_nyctaxi_dwh.dim_location"
   ]
  },
  {
   "cell_type": "code",
   "execution_count": 0,
   "metadata": {
    "application/vnd.databricks.v1+cell": {
     "cellMetadata": {
      "byteLimit": 2048000,
      "implicitDf": true,
      "rowLimit": 10000
     },
     "inputWidgets": {},
     "nuid": "02954833-30fc-4549-a799-fd7f1b68cdef",
     "showTitle": false,
     "tableResultSettingsMap": {},
     "title": ""
    }
   },
   "outputs": [],
   "source": [
    "%sql\n",
    "CREATE OR REPLACE TABLE my_nyctaxi_dwh.Dim_Location AS\n",
    "SELECT LocationID_Source, row_number() OVER (ORDER BY LocationID_Source) AS location_surrogate_key\n",
    "FROM (\n",
    "    SELECT PULocationID AS LocationID_Source\n",
    "    FROM my_nyctaxi_dwh.dim_location\n",
    "    UNION\n",
    "    SELECT DOLocationID AS LocationID_Source\n",
    "    FROM my_nyctaxi_dwh.dim_location\n",
    "   \n",
    ") AS d_loc  ;"
   ]
  },
  {
   "cell_type": "code",
   "execution_count": 0,
   "metadata": {
    "application/vnd.databricks.v1+cell": {
     "cellMetadata": {
      "byteLimit": 2048000,
      "implicitDf": true,
      "rowLimit": 10000
     },
     "inputWidgets": {},
     "nuid": "989566ee-251c-4df7-bf00-209d0719455f",
     "showTitle": false,
     "tableResultSettingsMap": {},
     "title": ""
    }
   },
   "outputs": [],
   "source": [
    "%sql\n",
    "select * from my_nyctaxi_dwh.dim_location"
   ]
  },
  {
   "cell_type": "code",
   "execution_count": 0,
   "metadata": {
    "application/vnd.databricks.v1+cell": {
     "cellMetadata": {
      "byteLimit": 2048000,
      "implicitDf": true,
      "rowLimit": 10000
     },
     "inputWidgets": {},
     "nuid": "af01a7e9-4027-4a33-ba73-27c8157acdbd",
     "showTitle": false,
     "tableResultSettingsMap": {},
     "title": ""
    }
   },
   "outputs": [],
   "source": [
    "%sql\n",
    "DROP TABLE IF EXISTS my_nyctaxi_dwh.payment_type"
   ]
  },
  {
   "cell_type": "code",
   "execution_count": 0,
   "metadata": {
    "application/vnd.databricks.v1+cell": {
     "cellMetadata": {
      "byteLimit": 2048000,
      "implicitDf": true,
      "rowLimit": 10000
     },
     "inputWidgets": {},
     "nuid": "1d5f71c2-6b7f-4585-9c4d-c5719fd47bc3",
     "showTitle": false,
     "tableResultSettingsMap": {},
     "title": ""
    }
   },
   "outputs": [],
   "source": [
    "%sql\n",
    "CREATE OR REPLACE TABLE my_nyctaxi_dwh.payment_type AS\n",
    "SELECT \n",
    "    payment_type,\n",
    "    payment_type_desc,\n",
    "    ROW_NUMBER() OVER (ORDER BY payment_type) AS payment_surrogate_key\n",
    "FROM (\n",
    "    SELECT DISTINCT payment_type, payment_type_desc\n",
    "    FROM new_yellow_view\n",
    ") as d_p_type;\n"
   ]
  },
  {
   "cell_type": "code",
   "execution_count": 0,
   "metadata": {
    "application/vnd.databricks.v1+cell": {
     "cellMetadata": {
      "byteLimit": 2048000,
      "implicitDf": true,
      "rowLimit": 10000
     },
     "inputWidgets": {},
     "nuid": "dad73249-8b5f-4d2d-a78e-20fd9ecb04c7",
     "showTitle": false,
     "tableResultSettingsMap": {},
     "title": ""
    }
   },
   "outputs": [],
   "source": [
    "%sql\n",
    "select * from my_nyctaxi_dwh.payment_type"
   ]
  },
  {
   "cell_type": "code",
   "execution_count": 0,
   "metadata": {
    "application/vnd.databricks.v1+cell": {
     "cellMetadata": {
      "byteLimit": 2048000,
      "implicitDf": true,
      "rowLimit": 10000
     },
     "inputWidgets": {},
     "nuid": "fdc16a81-b90a-475a-bfe6-1ca540deff22",
     "showTitle": false,
     "tableResultSettingsMap": {},
     "title": ""
    }
   },
   "outputs": [],
   "source": [
    "%sql\n",
    "CREATE OR REPLACE TABLE my_nyctaxi_dwh.dim_rate_code AS\n",
    "SELECT \n",
    "    RatecodeID,\n",
    "    rate_code_desc,\n",
    "    ROW_NUMBER() OVER (ORDER BY RatecodeID) AS ratecode_surrogate_key\n",
    "FROM (\n",
    "    SELECT DISTINCT RatecodeID, rate_code_desc\n",
    "    FROM new_yellow_view\n",
    ") as d_r_code ;"
   ]
  },
  {
   "cell_type": "code",
   "execution_count": 0,
   "metadata": {
    "application/vnd.databricks.v1+cell": {
     "cellMetadata": {
      "byteLimit": 2048000,
      "implicitDf": true,
      "rowLimit": 10000
     },
     "inputWidgets": {},
     "nuid": "ee8c1e6b-625c-46a4-a00a-db42f5072123",
     "showTitle": false,
     "tableResultSettingsMap": {},
     "title": ""
    }
   },
   "outputs": [],
   "source": [
    "%sql\n",
    "select * from my_nyctaxi_dwh.dim_rate_code"
   ]
  },
  {
   "cell_type": "markdown",
   "metadata": {
    "application/vnd.databricks.v1+cell": {
     "cellMetadata": {},
     "inputWidgets": {},
     "nuid": "6267a916-0216-4f91-abeb-9424d4ac7434",
     "showTitle": false,
     "tableResultSettingsMap": {},
     "title": ""
    }
   },
   "source": [
    "FACT TABLE"
   ]
  },
  {
   "cell_type": "code",
   "execution_count": 0,
   "metadata": {
    "application/vnd.databricks.v1+cell": {
     "cellMetadata": {
      "byteLimit": 2048000,
      "implicitDf": true,
      "rowLimit": 10000
     },
     "inputWidgets": {},
     "nuid": "5326b12b-d7ea-4790-9c6b-2b6a6ec0ce6d",
     "showTitle": false,
     "tableResultSettingsMap": {},
     "title": ""
    }
   },
   "outputs": [],
   "source": [
    "%sql\n",
    "select * from new_yellow_view"
   ]
  },
  {
   "cell_type": "code",
   "execution_count": 0,
   "metadata": {
    "application/vnd.databricks.v1+cell": {
     "cellMetadata": {
      "byteLimit": 2048000,
      "implicitDf": true,
      "rowLimit": 10000
     },
     "inputWidgets": {},
     "nuid": "b561212b-5ed4-448c-91e0-6e572239ad8f",
     "showTitle": false,
     "tableResultSettingsMap": {},
     "title": ""
    }
   },
   "outputs": [],
   "source": [
    "%sql\n",
    "CREATE OR REPLACE TABLE my_nyctaxi_dwh.fact_table as \n",
    "SELECT\n",
    " new_yellow_view.VendorID,\n",
    "  new_yellow_view.tpep_pickup_datetime,\n",
    "  new_yellow_view.tpep_dropoff_datetime,\n",
    "  new_yellow_view.passenger_count,\n",
    "  new_yellow_view.trip_distance,\n",
    "  new_yellow_view.store_and_fwd_flag,\n",
    "  new_yellow_view.fare_amount,\n",
    "  new_yellow_view.extra,\n",
    "  new_yellow_view.mta_tax,\n",
    "  new_yellow_view.tip_amount,\n",
    "  new_yellow_view.tolls_amount,\n",
    "  new_yellow_view.improvement_surcharge,\n",
    "  new_yellow_view.congestion_surcharge,\n",
    "  new_yellow_view.airport_fee,\n",
    "  new_yellow_view.cbd_congestion_fee,\n",
    "  new_yellow_view.pickup_hour,\n",
    "  new_yellow_view.travel_duration,\n",
    "  d_loc.location_surrogate_key as Pu_Location_sk,\n",
    "  do_loc.location_surrogate_key as Do_Location_sk,\n",
    "  d_p_type.payment_surrogate_key,\n",
    "  d_r_code.ratecode_surrogate_key,\n",
    "  TA.travel_volume,\n",
    "  TB.most_taxi_rides,\n",
    "  TC.travel_nbr_per_zn,\n",
    "  TD.most_payment_tp\n",
    "\n",
    "from new_yellow_view\n",
    "LEFT JOIN \n",
    "my_nyctaxi_dwh.Dim_Location as d_loc\n",
    "ON new_yellow_view.PULocationID = d_loc.LocationID_Source\n",
    "LEFT JOIN \n",
    "my_nyctaxi_dwh.Dim_Location as do_loc\n",
    "ON new_yellow_view.DOLocationID = do_loc.LocationID_Source\n",
    "LEFT JOIN \n",
    "my_nyctaxi_dwh.payment_type as d_p_type\n",
    "ON new_yellow_view.payment_type = d_p_type.payment_type\n",
    "LEFT JOIN \n",
    "my_nyctaxi_dwh.dim_rate_code as d_r_code\n",
    "ON new_yellow_view.RatecodeID = d_r_code.RatecodeID\n",
    "LEFT JOIN TA\n",
    "ON new_yellow_view.PULocationID = TA.PULocationID\n",
    "AND new_yellow_view.pickup_hour = TA.pickup_hour\n",
    "LEFT JOIN TB  \n",
    "  ON new_yellow_view.pickup_hour = TB.pickup_hour\n",
    "LEFT JOIN TC\n",
    "  ON new_yellow_view.PULocationID = TC.PULocationID\n",
    "LEFT JOIN TD\n",
    "  ON new_yellow_view.payment_type = TD.payment_type\n",
    "\n"
   ]
  },
  {
   "cell_type": "code",
   "execution_count": 0,
   "metadata": {
    "application/vnd.databricks.v1+cell": {
     "cellMetadata": {
      "byteLimit": 2048000,
      "implicitDf": true,
      "rowLimit": 10000
     },
     "inputWidgets": {},
     "nuid": "fd4d3ee5-3756-4698-9acc-a3c8146884df",
     "showTitle": false,
     "tableResultSettingsMap": {},
     "title": ""
    }
   },
   "outputs": [],
   "source": [
    "%sql\n",
    "select * from my_nyctaxi_dwh.fact_table "
   ]
  },
  {
   "cell_type": "code",
   "execution_count": 0,
   "metadata": {
    "application/vnd.databricks.v1+cell": {
     "cellMetadata": {},
     "inputWidgets": {},
     "nuid": "f5189444-e6df-49ec-b6b7-f6ca56043bcc",
     "showTitle": false,
     "tableResultSettingsMap": {},
     "title": ""
    }
   },
   "outputs": [],
   "source": []
  }
 ],
 "metadata": {
  "application/vnd.databricks.v1+notebook": {
   "computePreferences": null,
   "dashboards": [],
   "environmentMetadata": null,
   "inputWidgetPreferences": null,
   "language": "python",
   "notebookMetadata": {
    "mostRecentlyExecutedCommandWithImplicitDF": {
     "commandId": 3719005584430055,
     "dataframes": [
      "_sqldf"
     ]
    },
    "pythonIndentUnit": 4
   },
   "notebookName": "New York_Taxi_ETL",
   "widgets": {}
  }
 },
 "nbformat": 4,
 "nbformat_minor": 0
}